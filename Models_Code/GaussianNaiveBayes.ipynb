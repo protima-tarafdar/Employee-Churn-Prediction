{
  "nbformat": 4,
  "nbformat_minor": 0,
  "metadata": {
    "colab": {
      "provenance": []
    },
    "kernelspec": {
      "name": "python3",
      "display_name": "Python 3"
    },
    "language_info": {
      "name": "python"
    }
  },
  "cells": [
    {
      "cell_type": "code",
      "execution_count": null,
      "metadata": {
        "id": "LbEpI_XpGoSU"
      },
      "outputs": [],
      "source": [
        "#GNB FOR ALL FEATURES\n",
        "\n",
        "from sklearn.naive_bayes import GaussianNB\n",
        "from sklearn.metrics import classification_report, confusion_matrix, roc_curve, auc\n",
        "import numpy as np\n",
        "from sklearn.model_selection import GridSearchCV\n",
        "\n",
        "# define the range of hyperparameters to search over\n",
        "param_grid = {'var_smoothing': np.logspace(0,-9, num=100)}\n",
        "\n",
        "\n",
        "# define the grid search object\n",
        "gnb_grid_search = GridSearchCV(estimator=gnb, param_grid=param_grid, cv=10, scoring='accuracy', n_jobs=-1, verbose=1)\n",
        "\n",
        "# fit the grid search to the data\n",
        "gnb_grid_search.fit(X_train, y_train)\n",
        "\n",
        "# print the best hyperparameters and corresponding accuracy\n",
        "print(\"Best hyperparameters: \", gnb_grid_search.best_params_)\n",
        "print(\"Best accuracy: {:.2f}\".format(gnb_grid_search.best_score_))\n",
        "y_pred_gnb = gnb_grid_search.predict(X_val)\n",
        "\n",
        "# Get the classification report\n",
        "print(classification_report(y_val, y_pred_gnb))\n",
        "\n",
        "# Plot the confusion matrix\n",
        "cm = confusion_matrix(y_val, y_pred_gnb)\n",
        "sns.heatmap(cm, annot=True, cmap='Blues', fmt='g')\n",
        "plt.title('Confusion Matrix')\n",
        "plt.xlabel('Predicted Labels')\n",
        "plt.ylabel('True Labels')\n",
        "plt.show()\n",
        "\n",
        "# Plot ROC & AUC\n",
        "y_prob_gnb = gnb_grid_search.predict_proba(X_val)[:,1]\n",
        "fpr, tpr, thresholds = roc_curve(y_val, y_prob_gnb)\n",
        "roc_auc = auc(fpr, tpr)\n",
        "\n",
        "plt.plot(fpr, tpr, color='darkorange', lw=2, label='ROC curve (AUC = %0.2f)' % roc_auc)\n",
        "plt.plot([0, 1], [0, 1], color='navy', lw=2, linestyle='--')\n",
        "plt.xlabel('False Positive Rate')\n",
        "plt.ylabel('True Positive Rate')\n",
        "plt.title('Receiver Operating Characteristic (ROC) Curve')\n",
        "plt.legend(loc=\"lower right\")\n",
        "plt.show()"
      ]
    }
  ]
}