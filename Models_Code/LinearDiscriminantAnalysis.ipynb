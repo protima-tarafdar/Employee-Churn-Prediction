{
  "nbformat": 4,
  "nbformat_minor": 0,
  "metadata": {
    "colab": {
      "provenance": []
    },
    "kernelspec": {
      "name": "python3",
      "display_name": "Python 3"
    },
    "language_info": {
      "name": "python"
    }
  },
  "cells": [
    {
      "cell_type": "code",
      "execution_count": null,
      "metadata": {
        "id": "l2M_fWzCGDjz"
      },
      "outputs": [],
      "source": [
        "#LDA for all features\n",
        "\n",
        "from sklearn.discriminant_analysis import LinearDiscriminantAnalysis\n",
        "from sklearn.metrics import classification_report, confusion_matrix, roc_curve, auc\n",
        "from sklearn.metrics import accuracy_score\n",
        "\n",
        "# Define the model and hyperparameters to tune\n",
        "lda = LinearDiscriminantAnalysis()\n",
        "params = {'solver': ['svd', 'lsqr', 'eigen']}\n",
        "\n",
        "# Perform a grid search to find the best hyperparameters\n",
        "lda_clf = GridSearchCV(lda, params, cv=5)\n",
        "lda_clf.fit(X_train, y_train)\n",
        "\n",
        "# Print the best hyperparameters and the classification report\n",
        "print(\"Best hyperparameters: \", lda_clf.best_params_)\n",
        "y_pred_lda = lda_clf.predict(X_val)\n",
        "print(classification_report(y_val, y_pred_lda))\n",
        "\n",
        "from sklearn.metrics import classification_report, accuracy_score, f1_score, confusion_matrix, roc_curve, auc\n",
        "\n",
        "# Print accuracy, f1 score, and confusion matrix\n",
        "accuracy = accuracy_score(y_val, y_pred_lda)\n",
        "f1 = f1_score(y_val, y_pred_lda)\n",
        "print(\"Accuracy:\", accuracy)\n",
        "print(\"F1 score:\", f1)\n",
        "\n",
        "\n",
        "cm = confusion_matrix(y_val, y_pred_lda)\n",
        "\n",
        "sns.heatmap(cm, annot=True, cmap='Blues')\n",
        "plt.title('Confusion Matrix')\n",
        "plt.xlabel('Predicted Labels')\n",
        "plt.ylabel('True Labels')\n",
        "plt.show()\n",
        "\n",
        "\n",
        "# Plot the ROC curve and calculate the AUC\n",
        "y_prob_lda = lda_clf.predict_proba(X_val)[:,1]\n",
        "fpr, tpr, thresholds = roc_curve(y_val, y_prob_lda)\n",
        "roc_auc = auc(fpr, tpr)\n",
        "\n",
        "plt.plot(fpr, tpr, color='darkorange', lw=2, label='ROC curve (AUC = %0.2f)' % roc_auc)\n",
        "plt.plot([0, 1], [0, 1], color='navy', lw=2, linestyle='--')\n",
        "plt.xlabel('False Positive Rate')\n",
        "plt.ylabel('True Positive Rate')\n",
        "plt.title('Receiver Operating Characteristic (ROC) Curve')\n",
        "plt.legend(loc=\"lower right\")\n",
        "plt.show()\n"
      ]
    }
  ]
}