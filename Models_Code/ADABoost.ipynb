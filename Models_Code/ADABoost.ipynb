{
  "nbformat": 4,
  "nbformat_minor": 0,
  "metadata": {
    "colab": {
      "provenance": []
    },
    "kernelspec": {
      "name": "python3",
      "display_name": "Python 3"
    },
    "language_info": {
      "name": "python"
    }
  },
  "cells": [
    {
      "cell_type": "code",
      "execution_count": null,
      "metadata": {
        "id": "_r_RXo0OFqLi"
      },
      "outputs": [],
      "source": [
        "#adaboost on all features+val\n",
        "from sklearn.ensemble import AdaBoostClassifier\n",
        "from sklearn.metrics import classification_report, plot_confusion_matrix, plot_roc_curve\n",
        "from sklearn.model_selection import learning_curve\n",
        "\n",
        "# Create and train the model\n",
        "model_ada = AdaBoostClassifier()\n",
        "model_ada.fit(X_train, y_train)\n",
        "\n",
        "# Generate predictions on the validation set\n",
        "y_pred_ada = model_ada.predict(X_val)\n",
        "\n",
        "# Generate evaluation metrics\n",
        "print(classification_report(y_val, y_pred_ada))\n",
        "plot_confusion_matrix(model_ada, X_val, y_val)\n",
        "plot_roc_curve(model_ada, X_val, y_val)\n",
        "\n",
        "cm = confusion_matrix(y_val, y_pred_ada)\n",
        "print(cm)\n",
        "\n",
        "# Generate learning curve\n",
        "train_sizes, train_scores, test_scores = learning_curve(model_ada, X_train, y_train, cv=5)\n",
        "train_scores_mean = np.mean(train_scores, axis=1)\n",
        "train_scores_std = np.std(train_scores, axis=1)\n",
        "test_scores_mean = np.mean(test_scores, axis=1)\n",
        "test_scores_std = np.std(test_scores, axis=1)\n",
        "\n",
        "plt.figure()\n",
        "plt.title(\"Learning Curve (AdaBoost)\")\n",
        "plt.xlabel(\"Training Examples\")\n",
        "plt.ylabel(\"Score\")\n",
        "plt.fill_between(train_sizes, train_scores_mean - train_scores_std,\n",
        "                 train_scores_mean + train_scores_std, alpha=0.1,\n",
        "                 color=\"r\")\n",
        "plt.fill_between(train_sizes, test_scores_mean - test_scores_std,\n",
        "                 test_scores_mean + test_scores_std, alpha=0.1,\n",
        "                 color=\"g\")\n",
        "plt.plot(train_sizes, train_scores_mean, 'o-', color=\"r\",\n",
        "         label=\"Training Score\")\n",
        "plt.plot(train_sizes, test_scores_mean, 'o-', color=\"g\",\n",
        "         label=\"Cross-Validation Score\")\n",
        "plt.legend(loc=\"best\")\n",
        "\n",
        "plt.show()\n"
      ]
    }
  ]
}