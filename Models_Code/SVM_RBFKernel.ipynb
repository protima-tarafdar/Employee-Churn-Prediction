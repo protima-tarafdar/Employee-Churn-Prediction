{
  "nbformat": 4,
  "nbformat_minor": 0,
  "metadata": {
    "colab": {
      "provenance": []
    },
    "kernelspec": {
      "name": "python3",
      "display_name": "Python 3"
    },
    "language_info": {
      "name": "python"
    }
  },
  "cells": [
    {
      "cell_type": "code",
      "execution_count": null,
      "metadata": {
        "id": "_5bTxa0jG1r6"
      },
      "outputs": [],
      "source": [
        "#SVM for all features\n",
        "\n",
        "from sklearn.svm import SVC\n",
        "from sklearn.metrics import classification_report, confusion_matrix, roc_curve, auc\n",
        "\n",
        "\n",
        "# define the model and range of hyperparameters to search over\n",
        "SVM = SVC(kernel = 'rbf', probability=True, random_state = 0)\n",
        "svm_param_grid = {'C': [0.1,1, 10, 100], 'gamma': [1,0.1,0.01,0.001],'kernel': ['rbf']}\n",
        "\n",
        "\n",
        "# define the grid search object\n",
        "svm_grid = GridSearchCV(SVM,svm_param_grid, refit=True,verbose=2)\n",
        "\n",
        "# fit the grid search to the data\n",
        "svm_grid.fit(X_train, y_train)\n",
        "\n",
        "# print the best hyperparameters and corresponding accuracy\n",
        "print(\"Best hyperparameters: \", svm_grid.best_params_)\n",
        "print(\"Best accuracy: {:.2f}\".format(svm_grid.best_score_))\n",
        "y_pred_svm = svm_grid.predict(X_val)\n",
        "\n",
        "# Get the classification report\n",
        "print(classification_report(y_val, y_pred_svm))\n",
        "\n",
        "# Plot the confusion matrix\n",
        "cm = confusion_matrix(y_val, y_pred_svm)\n",
        "sns.heatmap(cm, annot=True, cmap='Blues', fmt='g')\n",
        "plt.title('Confusion Matrix')\n",
        "plt.xlabel('Predicted Labels')\n",
        "plt.ylabel('True Labels')\n",
        "plt.show()\n",
        "\n",
        "# Plot the ROC-AUC curve\n",
        "y_prob_svm = svm_grid.predict_proba(X_val)[:,1]\n",
        "fpr, tpr, thresholds = roc_curve(y_val, y_prob_svm)\n",
        "roc_auc = auc(fpr, tpr)\n",
        "\n",
        "plt.plot(fpr, tpr, color='darkorange', lw=2, label='ROC curve (AUC = %0.2f)' % roc_auc)\n",
        "plt.plot([0, 1], [0, 1], color='navy', lw=2, linestyle='--')\n",
        "plt.xlabel('False Positive Rate')\n",
        "plt.ylabel('True Positive Rate')\n",
        "plt.title('Receiver Operating Characteristic (ROC) Curve')\n",
        "plt.legend(loc=\"lower right\")\n",
        "plt.show()"
      ]
    }
  ]
}